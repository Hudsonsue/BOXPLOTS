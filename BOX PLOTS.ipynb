{
 "cells": [
  {
   "cell_type": "markdown",
   "metadata": {},
   "source": [
    "\n",
    "# Boxplots\n",
    "\n",
    "## Student ID G00219132\n",
    "    \n",
    "This notebook is a submission for Project 2018 for the Module **Fundamentals of Data Analysis** The module is delivered as part of the [Higher Diploma in Data Analytics](https://www.gmit.ie/computing/higher-diploma-science-computing-data-analytics-ict-skills) in [Galway Mayo IT](https://www.gmit.ie/), Galway."
   ]
  },
  {
   "cell_type": "markdown",
   "metadata": {},
   "source": [
    "### problem statement outline\n",
    "Below is an extract from the project instructions.\n",
    "\n",
    "**Problem statement**\n",
    "\n",
    "The box plot is common in data analysis for investigating individual numerical variables.\n",
    "In this project, you will investigate and explain box plots and their uses. The boxplot\n",
    "function from the Python package matplotlib.pyplot can be used to create box plots.\n",
    "Your submission should be in the form of a repository containing a Jupyter notebook in\n",
    "which you detail your findings. \n",
    "\n",
    "In your notebook, you should:\n",
    "* Summarise the history of the box plot and situations in which it used.\n",
    "* Demonstrate the use of the box plot using data of your choosing.\n",
    "* Explain any relevant terminology such as the terms quartile and percentile.\n",
    "* Compare the box plot to alternatives."
   ]
  },
  {
   "cell_type": "markdown",
   "metadata": {},
   "source": [
    "### notebook structure\n",
    "The notebook is split up into the following sections\n",
    "\n",
    "* Section One - General setup and importatation of necessary python libraries/packages\n",
    "* Section Two - Summarise the history of the box plot and situations in which it is used.\n",
    "* Section Three - Demonstrate the use of the box plot using data of your choosing.\n",
    "* Section Four - Explain any relevant terminology such as the terms quartile and percentile.\n",
    "* Section Five - Compare the box plot to alternatives.\n",
    "* Section Six - references and conclusion"
   ]
  },
  {
   "cell_type": "markdown",
   "metadata": {},
   "source": [
    "### Section one - general set up\n",
    "programming language - Python 3.7.0.for some information about Python and it's uses see the wikipedia page, [Python](https://en.wikipedia.org/wiki/Python_(programming_language))\n",
    "\n",
    "python packages imported for use in this notebook:\n",
    "* Mathplotlib.pyplot.py [Mathplotlib.org](https://matplotlib.org)\n",
    "* NumPy [NumPy](http://www.numpy.org/)\n",
    "* Seaborn [Seaborn](https://seaborn.pydata.org)\n",
    "* Pandas [Pandas](https://pandas.pydata.org)\n"
   ]
  },
  {
   "cell_type": "code",
   "execution_count": 1,
   "metadata": {},
   "outputs": [],
   "source": [
    "#ensures plots display crrectly\n",
    "%matplotlib inline"
   ]
  },
  {
   "cell_type": "code",
   "execution_count": 2,
   "metadata": {},
   "outputs": [],
   "source": [
    "import matplotlib.pyplot as plt "
   ]
  },
  {
   "cell_type": "code",
   "execution_count": 3,
   "metadata": {},
   "outputs": [],
   "source": [
    "import numpy as np"
   ]
  },
  {
   "cell_type": "code",
   "execution_count": 4,
   "metadata": {},
   "outputs": [],
   "source": [
    "import seaborn as sns"
   ]
  },
  {
   "cell_type": "code",
   "execution_count": 5,
   "metadata": {},
   "outputs": [],
   "source": [
    "import pandas as pd"
   ]
  },
  {
   "cell_type": "code",
   "execution_count": null,
   "metadata": {},
   "outputs": [],
   "source": []
  },
  {
   "cell_type": "code",
   "execution_count": null,
   "metadata": {},
   "outputs": [],
   "source": []
  },
  {
   "cell_type": "markdown",
   "metadata": {},
   "source": [
    "### Section Two - Summarise the history of the box plot and situations in which it is used."
   ]
  },
  {
   "cell_type": "markdown",
   "metadata": {},
   "source": [
    "Boxplots were first used in 1969 by mathematician [John Tukey](https://en.wikipedia.org/wiki/John_Tukey). \n",
    "They are used to show the distribution of data and show the data minimum, first quartile, median, third quartile and maximum.\n",
    "They consist of a rectangular box with whiskers extending from each end to the mimimum and maximum data points. The rectangle itself goes from the first quartile to the third quartile (called the interquartile range) and a ine within the box shows the median value of the data. It allows a simple but highly visually effective method of displaying and comparing data distributions. \n"
   ]
  },
  {
   "cell_type": "markdown",
   "metadata": {},
   "source": [
    "### Section Three - Demonstrate the use of the box plot using data of your choosing."
   ]
  },
  {
   "cell_type": "markdown",
   "metadata": {},
   "source": [
    "For this I decided to use a simple example based on CAO points. \n",
    "\n",
    "Each year Irish Students undergo a state examination called the Leaving Certificate, see a wikipedia page about the examimaion here, [Leaving Cert](https://en.wikipedia.org/wiki/Leaving_Certificate_(Ireland)). For these LC students entry to third level courses in Ireland is via a central application system [CAO](http://www.cao.ie/). \n",
    "\n",
    "Leaving cert results are converted to **applicant points** and Third Level institutions review applicant points & available courses places and determine the mimimum entry points for the course. Course are then allocated to eligible applicants based on their points, in descending order until the course places are all allocated. The **course points** will therefore be the total points obtained by the last applicant allocated a course place.\n",
    "\n",
    "This method means that course popularity and number of available places can result in points changing from year to year. \n",
    "\n",
    "In the simulated example below a course had a points requirement in 2016 of 365 with a max points of 530, in 2017 a points requirement of 397 with maz 495. Intake is unchanged with 38 offers made in each year. When plotted as boxplots it is apparent that whilst the overall spread of points and max were greater in 2016 the 2017 median was higher.\n",
    "It is demonstrating in 2016 the two common scenarios in CAO points, at the higher end you have a student who has an excess of points but has stuck with the course they want; at the lower end the scenario where the demand was not as hgh as expected and to fill and make the course viable it is decided to drop points and pull in the last few students in a second round of offers. \n",
    "\n",
    "\n"
   ]
  },
  {
   "cell_type": "code",
   "execution_count": null,
   "metadata": {},
   "outputs": [],
   "source": []
  },
  {
   "cell_type": "code",
   "execution_count": 29,
   "metadata": {},
   "outputs": [],
   "source": [
    "##df = pd.read_csv(\"mock up points.csv\", header =0)\n",
    "df = pd.read_csv(\"https://raw.githubusercontent.com/Hudsonsue/BOXPLOTS/master/mock%20up%20points.csv\", header =0)\n",
    "#df"
   ]
  },
  {
   "cell_type": "code",
   "execution_count": 9,
   "metadata": {},
   "outputs": [
    {
     "data": {
      "text/html": [
       "<div>\n",
       "<style scoped>\n",
       "    .dataframe tbody tr th:only-of-type {\n",
       "        vertical-align: middle;\n",
       "    }\n",
       "\n",
       "    .dataframe tbody tr th {\n",
       "        vertical-align: top;\n",
       "    }\n",
       "\n",
       "    .dataframe thead th {\n",
       "        text-align: right;\n",
       "    }\n",
       "</style>\n",
       "<table border=\"1\" class=\"dataframe\">\n",
       "  <thead>\n",
       "    <tr style=\"text-align: right;\">\n",
       "      <th></th>\n",
       "      <th>201600</th>\n",
       "      <th>201700</th>\n",
       "    </tr>\n",
       "  </thead>\n",
       "  <tbody>\n",
       "    <tr>\n",
       "      <th>count</th>\n",
       "      <td>39.000000</td>\n",
       "      <td>39.000000</td>\n",
       "    </tr>\n",
       "    <tr>\n",
       "      <th>mean</th>\n",
       "      <td>427.076923</td>\n",
       "      <td>440.871795</td>\n",
       "    </tr>\n",
       "    <tr>\n",
       "      <th>std</th>\n",
       "      <td>41.050921</td>\n",
       "      <td>30.051867</td>\n",
       "    </tr>\n",
       "    <tr>\n",
       "      <th>min</th>\n",
       "      <td>365.000000</td>\n",
       "      <td>397.000000</td>\n",
       "    </tr>\n",
       "    <tr>\n",
       "      <th>25%</th>\n",
       "      <td>398.500000</td>\n",
       "      <td>416.500000</td>\n",
       "    </tr>\n",
       "    <tr>\n",
       "      <th>50%</th>\n",
       "      <td>419.000000</td>\n",
       "      <td>434.000000</td>\n",
       "    </tr>\n",
       "    <tr>\n",
       "      <th>75%</th>\n",
       "      <td>452.500000</td>\n",
       "      <td>465.000000</td>\n",
       "    </tr>\n",
       "    <tr>\n",
       "      <th>max</th>\n",
       "      <td>530.000000</td>\n",
       "      <td>497.000000</td>\n",
       "    </tr>\n",
       "  </tbody>\n",
       "</table>\n",
       "</div>"
      ],
      "text/plain": [
       "           201600      201700\n",
       "count   39.000000   39.000000\n",
       "mean   427.076923  440.871795\n",
       "std     41.050921   30.051867\n",
       "min    365.000000  397.000000\n",
       "25%    398.500000  416.500000\n",
       "50%    419.000000  434.000000\n",
       "75%    452.500000  465.000000\n",
       "max    530.000000  497.000000"
      ]
     },
     "execution_count": 9,
     "metadata": {},
     "output_type": "execute_result"
    }
   ],
   "source": [
    "df.describe()"
   ]
  },
  {
   "cell_type": "code",
   "execution_count": 10,
   "metadata": {},
   "outputs": [
    {
     "name": "stdout",
     "output_type": "stream",
     "text": [
      "Median Values   [419. 434.]\n",
      "Max Pts\n",
      "201600    530\n",
      "201700    497\n",
      "dtype: int64\n",
      "Min pts\n",
      "201600    365\n",
      "201700    397\n",
      "dtype: int64\n",
      "\n",
      "Q1 201600 398.5 --- Q1 201700 416.5\n",
      "\n",
      "Q3 201600 452.5 --- Q3 201700 465.0\n",
      "\n",
      "Interquartile range 201600 54.0\n",
      "Interquartile range 201700 48.5\n"
     ]
    },
    {
     "data": {
      "image/png": "[encoded data removed]",
      "text/plain": [
       "<Figure size 432x288 with 1 Axes>"
      ]
     },
     "metadata": {
      "needs_background": "light"
     },
     "output_type": "display_data"
    }
   ],
   "source": [
    "boxplot = df.boxplot(column=['201600','201700'],  return_type='axes')\n",
    "print(\"Median Values  \", np.median(df,axis =0))\n",
    "max_pts = np.amax(df, axis=0)\n",
    "min_pts = np.amin(df, axis=0)\n",
    "print(\"Max Pts\")\n",
    "print (max_pts)\n",
    "print(\"Min pts\")\n",
    "print( min_pts)\n",
    "print()\n",
    "Q1 =np.percentile(df, 25, axis =0)\n",
    "print (\"Q1 201600\", Q1[0], \"--- Q1 201700\", Q1[1])\n",
    "print()\n",
    "Q3 =np.percentile(df, 75, axis=0)\n",
    "print (\"Q3 201600\", Q3[0], \"--- Q3 201700\", Q3[1])\n",
    "IR = Q3-Q1\n",
    "print()\n",
    "print(\"Interquartile range 201600\", (IR[0]))\n",
    "print(\"Interquartile range 201700\", (IR[1]))\n"
   ]
  },
  {
   "cell_type": "code",
   "execution_count": 11,
   "metadata": {},
   "outputs": [
    {
     "data": {
      "image/png": "[encoded data removed]",
      "text/plain": [
       "<Figure size 432x288 with 1 Axes>"
      ]
     },
     "metadata": {},
     "output_type": "display_data"
    }
   ],
   "source": [
    "\n",
    "df1 = pd.DataFrame(data = df, columns = ['201600','201700'])\n",
    "sns.set(style=\"whitegrid\")\n",
    "sns.boxplot(x=\"variable\",y = \"value\", hue = \"variable\",data=pd.melt(df), palette=\"Set3\").set_title(\"CAO Points Course A\")\n",
    "plt.show()\n",
    "\n",
    "\n",
    "    #palette=\"Set3\" colour scheme"
   ]
  },
  {
   "cell_type": "code",
   "execution_count": 12,
   "metadata": {},
   "outputs": [
    {
     "data": {
      "text/html": [
       "<div>\n",
       "<style scoped>\n",
       "    .dataframe tbody tr th:only-of-type {\n",
       "        vertical-align: middle;\n",
       "    }\n",
       "\n",
       "    .dataframe tbody tr th {\n",
       "        vertical-align: top;\n",
       "    }\n",
       "\n",
       "    .dataframe thead th {\n",
       "        text-align: right;\n",
       "    }\n",
       "</style>\n",
       "<table border=\"1\" class=\"dataframe\">\n",
       "  <thead>\n",
       "    <tr style=\"text-align: right;\">\n",
       "      <th></th>\n",
       "      <th>PROGRAMME</th>\n",
       "      <th>2012</th>\n",
       "      <th>2013</th>\n",
       "      <th>2014</th>\n",
       "      <th>2015</th>\n",
       "      <th>2016</th>\n",
       "      <th>2017</th>\n",
       "    </tr>\n",
       "  </thead>\n",
       "  <tbody>\n",
       "    <tr>\n",
       "      <th>0</th>\n",
       "      <td>prog A</td>\n",
       "      <td>410</td>\n",
       "      <td>440</td>\n",
       "      <td>455</td>\n",
       "      <td>455</td>\n",
       "      <td>475</td>\n",
       "      <td>455</td>\n",
       "    </tr>\n",
       "    <tr>\n",
       "      <th>1</th>\n",
       "      <td>prog A</td>\n",
       "      <td>415</td>\n",
       "      <td>440</td>\n",
       "      <td>460</td>\n",
       "      <td>460</td>\n",
       "      <td>480</td>\n",
       "      <td>460</td>\n",
       "    </tr>\n",
       "    <tr>\n",
       "      <th>2</th>\n",
       "      <td>prog A</td>\n",
       "      <td>425</td>\n",
       "      <td>450</td>\n",
       "      <td>465</td>\n",
       "      <td>465</td>\n",
       "      <td>485</td>\n",
       "      <td>465</td>\n",
       "    </tr>\n",
       "  </tbody>\n",
       "</table>\n",
       "</div>"
      ],
      "text/plain": [
       "  PROGRAMME  2012  2013  2014  2015  2016  2017\n",
       "0    prog A   410   440   455   455   475   455\n",
       "1    prog A   415   440   460   460   480   460\n",
       "2    prog A   425   450   465   465   485   465"
      ]
     },
     "execution_count": 12,
     "metadata": {},
     "output_type": "execute_result"
    }
   ],
   "source": [
    "df3 = pd.read_csv(\"boxplotdata.csv\",  header = 0) \n",
    "df3.head(3)"
   ]
  },
  {
   "cell_type": "code",
   "execution_count": null,
   "metadata": {},
   "outputs": [],
   "source": [
    "df3.boxplot(column = ['2012','2013','2014','2015','2016','2017'], return_type='axes', by='PROGRAMME')\n",
    "plt.show()\n",
    "\n"
   ]
  },
  {
   "cell_type": "code",
   "execution_count": 13,
   "metadata": {},
   "outputs": [
    {
     "name": "stdout",
     "output_type": "stream",
     "text": [
      "    2012  2013  2014  2015  2016  2017\n",
      "0    410   440   455   455   475   455\n",
      "1    415   440   460   460   480   460\n",
      "2    425   450   465   465   485   465\n",
      "3    430   455   470   470   490   466\n",
      "4    440   460   475   480   500   471\n",
      "5    445   465   480   485   505   476\n",
      "6    455   470   485   490   515   486\n",
      "7    460   475   495   505   520   487\n",
      "8    465   485   505   515   525   493\n",
      "9    470   490   510   520   530   497\n",
      "10   485   495   515   530   540   508\n",
      "11   490   505   520   535   545   515\n",
      "12   495   510   535   540   555   518\n",
      "13   515   515   550   545   565   520\n",
      "14   535   520   555   545   570   531\n",
      "15   565   525   580   550   575   537\n",
      "16   575   590   595   550   575   514\n",
      "17   285   230   185   215   285   305\n",
      "18   290   235   200   220   285   310\n",
      "19   300   265   220   225   285   314\n",
      "20   300   270   250   250   315   319\n",
      "21   310   275   265   265   330   329\n",
      "22   310   285   275   282   340   348\n",
      "23   310   295   285   290   390   371\n",
      "24   310   298   290   305   425   375\n",
      "25   315   300   305   315   430   397\n",
      "26   315   300   310   315   435   398\n",
      "27   320   305   315   320   440   415\n",
      "28   330   305   320   320   440   421\n",
      "29   340   330   320   335   450   435\n",
      "30   340   330   325   340   455   437\n",
      "31   340   330   330   360   470   443\n",
      "32   350   330   330   365   475   444\n"
     ]
    },
    {
     "data": {
      "image/png": "[encoded data removed]",
      "text/plain": [
       "<Figure size 432x288 with 1 Axes>"
      ]
     },
     "metadata": {},
     "output_type": "display_data"
    }
   ],
   "source": [
    "df4 = pd.DataFrame(data = df3, columns = [ '2012','2013', '2014', '2015','2016','2017'] )\n",
    "print(df4)\n",
    "sns.boxplot(x=\"variable\", y=\"value\", data= pd.melt(df4))\n",
    "plt.show()\n"
   ]
  },
  {
   "cell_type": "code",
   "execution_count": null,
   "metadata": {},
   "outputs": [],
   "source": []
  },
  {
   "cell_type": "markdown",
   "metadata": {},
   "source": [
    "### Section Four - Explain any relevant terminology such as the terms quartile and percentile."
   ]
  },
  {
   "cell_type": "markdown",
   "metadata": {},
   "source": [
    "### Compare the box plot to alternatives."
   ]
  },
  {
   "cell_type": "markdown",
   "metadata": {},
   "source": [
    "As boxplots are distribution plots the first alternative to spring to mind is the histogram, below I have plotted the single programme across two years data as seaborn [distribution plots](https://seaborn.pydata.org/generated/seaborn.distplot.html), both superimposed and side by side.\n",
    "Whilst it is possible to interpret the plots it is not as visually easy as the box plots, this would be even more apparent where there are six years of data!\n",
    "\n",
    "I also investigated the use of a [strip plot](https://seaborn.pydata.org/generated/seaborn.stripplot.html), it shows the distribution of datapoints and it would be useful in conjunction with the box plots. Doing these comparisons higlighted one major advantage of the boxplot which is that whilst it is lovely in colour colour is not a necessity! unlike most plots!"
   ]
  },
  {
   "cell_type": "code",
   "execution_count": 14,
   "metadata": {},
   "outputs": [
    {
     "name": "stderr",
     "output_type": "stream",
     "text": [
      "C:\\Users\\User\\Anaconda3\\lib\\site-packages\\scipy\\stats\\stats.py:1713: FutureWarning: Using a non-tuple sequence for multidimensional indexing is deprecated; use `arr[tuple(seq)]` instead of `arr[seq]`. In the future this will be interpreted as an array index, `arr[np.array(seq)]`, which will result either in an error or a different result.\n",
      "  return np.add.reduce(sorted[indexer] * weights, axis=axis) / sumval\n"
     ]
    },
    {
     "data": {
      "image/png": "[encoded data removed]",
      "text/plain": [
       "<Figure size 432x288 with 1 Axes>"
      ]
     },
     "metadata": {},
     "output_type": "display_data"
    }
   ],
   "source": [
    "df\n",
    "sns.distplot(df[\"201600\"], label=\"201600\")\n",
    "sns.distplot(df[\"201700\"], label=\"201700\")\n",
    "plt.legend()\n",
    "plt.show()"
   ]
  },
  {
   "cell_type": "code",
   "execution_count": 30,
   "metadata": {},
   "outputs": [
    {
     "name": "stderr",
     "output_type": "stream",
     "text": [
      "C:\\Users\\User\\Anaconda3\\lib\\site-packages\\scipy\\stats\\stats.py:1713: FutureWarning: Using a non-tuple sequence for multidimensional indexing is deprecated; use `arr[tuple(seq)]` instead of `arr[seq]`. In the future this will be interpreted as an array index, `arr[np.array(seq)]`, which will result either in an error or a different result.\n",
      "  return np.add.reduce(sorted[indexer] * weights, axis=axis) / sumval\n"
     ]
    },
    {
     "data": {
      "text/plain": [
       "<matplotlib.axes._subplots.AxesSubplot at 0xb444828>"
      ]
     },
     "execution_count": 30,
     "metadata": {},
     "output_type": "execute_result"
    },
    {
     "data": {
      "image/png": "[encoded data removed]",
      "text/plain": [
       "<Figure size 576x288 with 2 Axes>"
      ]
     },
     "metadata": {},
     "output_type": "display_data"
    }
   ],
   "source": [
    "# plot\n",
    "f, axes = plt.subplots(1,2, figsize=(8, 4), sharex=True)\n",
    "sns.distplot( df[\"201600\"] , color=\"skyblue\", ax=axes[0])\n",
    "sns.distplot( df[\"201700\"] , color=\"olive\", ax=axes[1])\n"
   ]
  },
  {
   "cell_type": "code",
   "execution_count": 16,
   "metadata": {},
   "outputs": [
    {
     "data": {
      "image/png": "[encoded data removed]",
      "text/plain": [
       "<Figure size 432x288 with 1 Axes>"
      ]
     },
     "metadata": {},
     "output_type": "display_data"
    }
   ],
   "source": [
    "\n",
    "df1 = pd.DataFrame(data = df, columns = ['201600','201700'])\n",
    "sns.set(style=\"whitegrid\")\n",
    "sns.stripplot(x=\"variable\",y = \"value\", hue = \"variable\",data=pd.melt(df), palette=\"Set1\").set_title(\"CAO Points Course A\")\n",
    "plt.show()\n"
   ]
  },
  {
   "cell_type": "markdown",
   "metadata": {},
   "source": [
    "### Section Six - references and conclusion"
   ]
  },
  {
   "cell_type": "markdown",
   "metadata": {},
   "source": [
    "references specific\n",
    "https://en.wikipedia.org/wiki/Box_plot\n",
    "\n",
    "https://www.tutorialspoint.com/python/python_box_plots.htm\n",
    "\n",
    "https://www.mathsisfun.com/data/quartiles.html --reminder of how to work out quartiles!\n",
    "\n",
    "https://stackoverflow.com/questions/49554139/boxplot-of-multiple-columns-of-a-pandas-dataframe-on-the-same-figure-seaborn --assistance with SNS box plot"
   ]
  },
  {
   "cell_type": "markdown",
   "metadata": {},
   "source": [
    "### END"
   ]
  },
  {
   "cell_type": "code",
   "execution_count": null,
   "metadata": {},
   "outputs": [],
   "source": []
  }
 ],
 "metadata": {
  "kernelspec": {
   "display_name": "Python 3",
   "language": "python",
   "name": "python3"
  },
  "language_info": {
   "codemirror_mode": {
    "name": "ipython",
    "version": 3
   },
   "file_extension": ".py",
   "mimetype": "text/x-python",
   "name": "python",
   "nbconvert_exporter": "python",
   "pygments_lexer": "ipython3",
   "version": "3.7.0"
  }
 },
 "nbformat": 4,
 "nbformat_minor": 2
}
