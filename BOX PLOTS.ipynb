{
 "cells": [
  {
   "cell_type": "markdown",
   "metadata": {},
   "source": [
    "\n",
    "# Boxplots\n",
    "\n",
    "## Student ID G00219132\n",
    "    \n",
    "This notebook is a submission for Project 2018 for the Module **Fundamentals of Data Analysis** The module is delivered as part of the [Higher Diploma in Data Analytics](https://www.gmit.ie/computing/higher-diploma-science-computing-data-analytics-ict-skills) in [Galway Mayo IT](https://www.gmit.ie/), Galway."
   ]
  },
  {
   "cell_type": "markdown",
   "metadata": {},
   "source": [
    "### problem statement outline\n",
    "Below is an extract from the project instructions.\n",
    "\n",
    "**Problem statement**\n",
    "\n",
    "The box plot is common in data analysis for investigating individual numerical variables.\n",
    "In this project, you will investigate and explain box plots and their uses. The boxplot\n",
    "function from the Python package matplotlib.pyplot can be used to create box plots.\n",
    "Your submission should be in the form of a repository containing a Jupyter notebook in\n",
    "which you detail your findings. \n",
    "\n",
    "In your notebook, you should:\n",
    "* Summarise the history of the box plot and situations in which it used.\n",
    "* Demonstrate the use of the box plot using data of your choosing.\n",
    "* Explain any relevant terminology such as the terms quartile and percentile.\n",
    "* Compare the box plot to alternatives."
   ]
  },
  {
   "cell_type": "markdown",
   "metadata": {},
   "source": [
    "### notebook structure\n",
    "The notebook is split up into the following sections\n",
    "\n",
    "* Section One - General setup and importatation of necessary python libraries/packages\n",
    "* Section Two - Summarise the history of the box plot and situations in which it is used.\n",
    "* Section Three - Demonstrate the use of the box plot using data of your choosing.\n",
    "* Section Four - Explain any relevant terminology such as the terms quartile and percentile.\n",
    "* Section Five - Compare the box plot to alternatives.\n",
    "* Section Six - references and conclusion"
   ]
  },
  {
   "cell_type": "markdown",
   "metadata": {},
   "source": [
    "### Section one - general set up\n",
    "programming language - Python 3.7.0.for some information about Python and it's uses see the wikipedia page, [Python](https://en.wikipedia.org/wiki/Python_(programming_language))\n",
    "\n",
    "python packages imported\n",
    "\n",
    "* Mathplotlib.pyplot.py [Mathplotlib.org](https://matplotlib.org)\n",
    "* NumPy [NumPy](http://www.numpy.org/)\n",
    "* Seaborn [Seaborn](https://seaborn.pydata.org)\n",
    "* Pandas [Pandas](https://pandas.pydata.org)\n"
   ]
  },
  {
   "cell_type": "code",
   "execution_count": 1,
   "metadata": {},
   "outputs": [],
   "source": [
    "%matplotlib inline"
   ]
  },
  {
   "cell_type": "code",
   "execution_count": 2,
   "metadata": {},
   "outputs": [],
   "source": [
    "import matplotlib.pyplot as plt "
   ]
  },
  {
   "cell_type": "code",
   "execution_count": 3,
   "metadata": {},
   "outputs": [],
   "source": [
    "import numpy as np"
   ]
  },
  {
   "cell_type": "code",
   "execution_count": 4,
   "metadata": {},
   "outputs": [],
   "source": [
    "import seaborn as sns"
   ]
  },
  {
   "cell_type": "code",
   "execution_count": 5,
   "metadata": {},
   "outputs": [],
   "source": [
    "import pandas as pd"
   ]
  },
  {
   "cell_type": "code",
   "execution_count": null,
   "metadata": {},
   "outputs": [],
   "source": []
  },
  {
   "cell_type": "code",
   "execution_count": null,
   "metadata": {},
   "outputs": [],
   "source": []
  },
  {
   "cell_type": "markdown",
   "metadata": {},
   "source": [
    "### Section Two - Summarise the history of the box plot and situations in which it is used."
   ]
  },
  {
   "cell_type": "code",
   "execution_count": null,
   "metadata": {},
   "outputs": [],
   "source": []
  },
  {
   "cell_type": "markdown",
   "metadata": {},
   "source": [
    "### Section Three - Demonstrate the use of the box plot using data of your choosing."
   ]
  },
  {
   "cell_type": "markdown",
   "metadata": {},
   "source": [
    "For this I am going to simulate some CAO points for students entering a programme in a range of entry terms."
   ]
  },
  {
   "cell_type": "code",
   "execution_count": 19,
   "metadata": {},
   "outputs": [
    {
     "data": {
      "text/html": [
       "<div>\n",
       "<style scoped>\n",
       "    .dataframe tbody tr th:only-of-type {\n",
       "        vertical-align: middle;\n",
       "    }\n",
       "\n",
       "    .dataframe tbody tr th {\n",
       "        vertical-align: top;\n",
       "    }\n",
       "\n",
       "    .dataframe thead th {\n",
       "        text-align: right;\n",
       "    }\n",
       "</style>\n",
       "<table border=\"1\" class=\"dataframe\">\n",
       "  <thead>\n",
       "    <tr style=\"text-align: right;\">\n",
       "      <th></th>\n",
       "      <th>201600</th>\n",
       "      <th>201700</th>\n",
       "    </tr>\n",
       "  </thead>\n",
       "  <tbody>\n",
       "    <tr>\n",
       "      <th>0</th>\n",
       "      <td>365</td>\n",
       "      <td>397</td>\n",
       "    </tr>\n",
       "    <tr>\n",
       "      <th>1</th>\n",
       "      <td>366</td>\n",
       "      <td>398</td>\n",
       "    </tr>\n",
       "    <tr>\n",
       "      <th>2</th>\n",
       "      <td>367</td>\n",
       "      <td>400</td>\n",
       "    </tr>\n",
       "    <tr>\n",
       "      <th>3</th>\n",
       "      <td>377</td>\n",
       "      <td>401</td>\n",
       "    </tr>\n",
       "    <tr>\n",
       "      <th>4</th>\n",
       "      <td>385</td>\n",
       "      <td>406</td>\n",
       "    </tr>\n",
       "  </tbody>\n",
       "</table>\n",
       "</div>"
      ],
      "text/plain": [
       "   201600  201700\n",
       "0     365     397\n",
       "1     366     398\n",
       "2     367     400\n",
       "3     377     401\n",
       "4     385     406"
      ]
     },
     "execution_count": 19,
     "metadata": {},
     "output_type": "execute_result"
    }
   ],
   "source": [
    "df = pd.read_csv(\"mock up points.csv\")\n",
    "df.head(5)"
   ]
  },
  {
   "cell_type": "code",
   "execution_count": 22,
   "metadata": {},
   "outputs": [
    {
     "data": {
      "text/plain": [
       "array([419., 434.])"
      ]
     },
     "execution_count": 22,
     "metadata": {},
     "output_type": "execute_result"
    },
    {
     "data": {
      "image/png": "[encoded data removed]",
      "text/plain": [
       "<Figure size 432x288 with 1 Axes>"
      ]
     },
     "metadata": {
      "needs_background": "light"
     },
     "output_type": "display_data"
    }
   ],
   "source": [
    "df.plot.box(\n",
    "'True')\n",
    "np.median(df,[0])\n",
    "\n",
    "# Q2 2017 414, Q,[0]1 391, Q3 450 interquartile range 59\n",
    "# q2 2016 103, Q1 341, Q3 450 interquartile range 109\n"
   ]
  },
  {
   "cell_type": "code",
   "execution_count": 92,
   "metadata": {},
   "outputs": [
    {
     "name": "stdout",
     "output_type": "stream",
     "text": [
      "Median Values   [419. 434.]\n",
      "Max Pts\n",
      "201600    530\n",
      "201700    497\n",
      "dtype: int64\n",
      "Min pts\n",
      "201600    365\n",
      "201700    397\n",
      "dtype: int64\n",
      "\n",
      "Q1 201600 398.5 --- Q1 201700 416.5\n",
      "\n",
      "Q3 201600 452.5 --- Q3 201700 465.0\n",
      "\n",
      "Interquartile range 201600 54.0\n",
      "Interquartile range 201700 48.5\n"
     ]
    },
    {
     "data": {
      "image/png": "[encoded data removed]",
      "text/plain": [
       "<Figure size 432x288 with 1 Axes>"
      ]
     },
     "metadata": {
      "needs_background": "light"
     },
     "output_type": "display_data"
    }
   ],
   "source": [
    "boxplot = df.boxplot(column=['201600','201700'],  return_type='axes')\n",
    "print(\"Median Values  \", np.median(df,axis =0))\n",
    "max_pts = np.amax(df, axis=0)\n",
    "min_pts = np.amin(df, axis=0)\n",
    "print(\"Max Pts\")\n",
    "print (max_pts)\n",
    "print(\"Min pts\")\n",
    "print( min_pts)\n",
    "print()\n",
    "Q1 =np.percentile(df, 25, axis =0)\n",
    "print (\"Q1 201600\", Q1[0], \"--- Q1 201700\", Q1[1])\n",
    "print()\n",
    "Q3 =np.percentile(df, 75, axis=0)\n",
    "print (\"Q3 201600\", Q3[0], \"--- Q3 201700\", Q3[1])\n",
    "IR = Q3-Q1\n",
    "print()\n",
    "print(\"Interquartile range 201600\", (IR[0]))\n",
    "print(\"Interquartile range 201700\", (IR[1]))\n",
    "\n",
    "\n"
   ]
  },
  {
   "cell_type": "code",
   "execution_count": 93,
   "metadata": {},
   "outputs": [
    {
     "data": {
      "image/png": "[encoded data removed]",
      "text/plain": [
       "<Figure size 432x288 with 1 Axes>"
      ]
     },
     "metadata": {
      "needs_background": "light"
     },
     "output_type": "display_data"
    }
   ],
   "source": [
    "\n",
    "\n",
    "df1 = pd.DataFrame(data = df, columns = ['201600','201700'])\n",
    "sns.boxplot(x=\"variable\", y=\"value\", data=pd.melt(df))\n",
    "plt.show()\n",
    "\n",
    "\n",
    "    "
   ]
  },
  {
   "cell_type": "code",
   "execution_count": 130,
   "metadata": {},
   "outputs": [
    {
     "data": {
      "text/html": [
       "<div>\n",
       "<style scoped>\n",
       "    .dataframe tbody tr th:only-of-type {\n",
       "        vertical-align: middle;\n",
       "    }\n",
       "\n",
       "    .dataframe tbody tr th {\n",
       "        vertical-align: top;\n",
       "    }\n",
       "\n",
       "    .dataframe thead th {\n",
       "        text-align: right;\n",
       "    }\n",
       "</style>\n",
       "<table border=\"1\" class=\"dataframe\">\n",
       "  <thead>\n",
       "    <tr style=\"text-align: right;\">\n",
       "      <th></th>\n",
       "      <th>PROGRAMME</th>\n",
       "      <th>2012</th>\n",
       "      <th>2013</th>\n",
       "      <th>2014</th>\n",
       "      <th>2015</th>\n",
       "      <th>2016</th>\n",
       "      <th>2017</th>\n",
       "    </tr>\n",
       "  </thead>\n",
       "  <tbody>\n",
       "    <tr>\n",
       "      <th>0</th>\n",
       "      <td>prog A</td>\n",
       "      <td>410</td>\n",
       "      <td>440</td>\n",
       "      <td>455</td>\n",
       "      <td>455</td>\n",
       "      <td>475</td>\n",
       "      <td>455</td>\n",
       "    </tr>\n",
       "    <tr>\n",
       "      <th>1</th>\n",
       "      <td>prog A</td>\n",
       "      <td>415</td>\n",
       "      <td>440</td>\n",
       "      <td>460</td>\n",
       "      <td>460</td>\n",
       "      <td>480</td>\n",
       "      <td>460</td>\n",
       "    </tr>\n",
       "    <tr>\n",
       "      <th>2</th>\n",
       "      <td>prog A</td>\n",
       "      <td>425</td>\n",
       "      <td>450</td>\n",
       "      <td>465</td>\n",
       "      <td>465</td>\n",
       "      <td>485</td>\n",
       "      <td>465</td>\n",
       "    </tr>\n",
       "  </tbody>\n",
       "</table>\n",
       "</div>"
      ],
      "text/plain": [
       "  PROGRAMME  2012  2013  2014  2015  2016  2017\n",
       "0    prog A   410   440   455   455   475   455\n",
       "1    prog A   415   440   460   460   480   460\n",
       "2    prog A   425   450   465   465   485   465"
      ]
     },
     "execution_count": 130,
     "metadata": {},
     "output_type": "execute_result"
    }
   ],
   "source": [
    "df3 = pd.read_csv(\"boxplotdata.csv\",  sep=',' )   \n",
    "df3.head(3)"
   ]
  },
  {
   "cell_type": "code",
   "execution_count": 137,
   "metadata": {},
   "outputs": [
    {
     "data": {
      "image/png": "[encoded data removed]",
      "text/plain": [
       "<Figure size 432x288 with 6 Axes>"
      ]
     },
     "metadata": {
      "needs_background": "light"
     },
     "output_type": "display_data"
    }
   ],
   "source": [
    "##df4 = pd.DataFrame(data = df3, columns = ['PROGRAMME' '201200','201300', '201400', '201500','201600','201700'])\n",
    "##print(df4)\n",
    "df3.boxplot(column = ['2012','2013','2014','2015','2016','2017'], return_type='axes', by='PROGRAMME')\n",
    "plt.show()\n",
    "\n"
   ]
  },
  {
   "cell_type": "markdown",
   "metadata": {},
   "source": [
    "### Section Four - Explain any relevant terminology such as the terms quartile and percentile."
   ]
  },
  {
   "cell_type": "code",
   "execution_count": null,
   "metadata": {},
   "outputs": [],
   "source": []
  },
  {
   "cell_type": "code",
   "execution_count": null,
   "metadata": {},
   "outputs": [],
   "source": []
  },
  {
   "cell_type": "markdown",
   "metadata": {},
   "source": [
    "### Section Six - references and conclusion"
   ]
  },
  {
   "cell_type": "markdown",
   "metadata": {},
   "source": [
    "references specific\n",
    "https://en.wikipedia.org/wiki/Box_plot\n",
    "\n",
    "https://www.tutorialspoint.com/python/python_box_plots.htm\n",
    "\n",
    "https://www.mathsisfun.com/data/quartiles.html --reminder of how to work out quartiles!\n",
    "\n",
    "https://stackoverflow.com/questions/49554139/boxplot-of-multiple-columns-of-a-pandas-dataframe-on-the-same-figure-seaborn --assistance with SNS box plot"
   ]
  },
  {
   "cell_type": "markdown",
   "metadata": {},
   "source": [
    "### END"
   ]
  },
  {
   "cell_type": "code",
   "execution_count": null,
   "metadata": {},
   "outputs": [],
   "source": []
  }
 ],
 "metadata": {
  "kernelspec": {
   "display_name": "Python 3",
   "language": "python",
   "name": "python3"
  },
  "language_info": {
   "codemirror_mode": {
    "name": "ipython",
    "version": 3
   },
   "file_extension": ".py",
   "mimetype": "text/x-python",
   "name": "python",
   "nbconvert_exporter": "python",
   "pygments_lexer": "ipython3",
   "version": "3.7.0"
  }
 },
 "nbformat": 4,
 "nbformat_minor": 2
}
