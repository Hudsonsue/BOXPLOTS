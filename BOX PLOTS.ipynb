{
 "cells": [
  {
   "cell_type": "markdown",
   "metadata": {},
   "source": [
    "\n",
    "# Boxplots\n",
    "\n",
    "## Student ID G00219132\n",
    "    \n",
    "This notebook is a submission for Project 2018 for the Module **Fundamentals of Data Analysis** The module is delivered as part of the [Higher Diploma in Data Analytics](https://www.gmit.ie/computing/higher-diploma-science-computing-data-analytics-ict-skills) in [Galway Mayo IT](https://www.gmit.ie/), Galway."
   ]
  },
  {
   "cell_type": "markdown",
   "metadata": {},
   "source": [
    "### Problem statement outline\n",
    "Below is an extract from the project instructions.\n",
    "\n",
    "**Problem statement**\n",
    "\n",
    "The box plot is common in data analysis for investigating individual numerical variables.\n",
    "In this project, you will investigate and explain box plots and their uses. The boxplot\n",
    "function from the Python package matplotlib.pyplot can be used to create box plots.\n",
    "Your submission should be in the form of a repository containing a Jupyter notebook in\n",
    "which you detail your findings. \n",
    "\n",
    "In your notebook, you should:\n",
    "* Summarise the history of the box plot and situations in which it used.\n",
    "* Demonstrate the use of the box plot using data of your choosing.\n",
    "* Explain any relevant terminology such as the terms quartile and percentile.\n",
    "* Compare the box plot to alternatives."
   ]
  },
  {
   "cell_type": "markdown",
   "metadata": {},
   "source": [
    "### Notebook structure\n",
    "The notebook is split up into the following sections\n",
    "\n",
    "* Section One - General setup and importatation of necessary python libraries/packages\n",
    "* Section Two - Summarise the history of the box plot and situations in which it is used.\n",
    "* Section Three - Demonstrate the use of the box plot using data of your choosing.\n",
    "* Section Four - Explain any relevant terminology such as the terms quartile and percentile.\n",
    "* Section Five - Compare the box plot to alternatives.\n",
    "* Section Six - references and conclusion"
   ]
  },
  {
   "cell_type": "markdown",
   "metadata": {},
   "source": [
    "### Section one - general set up\n",
    "Notebook in programming language - Python 3.7.0.For some information about Python and it's uses see the wikipedia page, [Python](https://en.wikipedia.org/wiki/Python_(programming_language))\n",
    "\n",
    "The following Python packages are imported for use in this notebook:\n",
    "* Mathplotlib.pyplot.py [Mathplotlib.org](https://matplotlib.org). Matplotlib is a Python plotting library and Pyplot is a matplotlib module which provides a MATLAB type interface.\n",
    "* NumPy [NumPy](http://www.numpy.org/). NumPy is a Python package for mathemical computing.\n",
    "* Seaborn [Seaborn](https://seaborn.pydata.org). Seaborn is a Python package used for plotting data.\n",
    "* Pandas [Pandas](https://pandas.pydata.org). Pandas is a Python package for use with data frames.\n"
   ]
  },
  {
   "cell_type": "code",
   "execution_count": 1,
   "metadata": {},
   "outputs": [],
   "source": [
    "#command below ensures plots display correctly in the notebook\n",
    "%matplotlib inline\n",
    "#below imports all necessary python packages for this notebook\n",
    "import matplotlib.pyplot as plt \n",
    "import numpy as np\n",
    "import seaborn as sns\n",
    "import pandas as pd"
   ]
  },
  {
   "cell_type": "markdown",
   "metadata": {},
   "source": [
    "### Section Two - Summarise the history of the box plot and situations in which it is used."
   ]
  },
  {
   "cell_type": "markdown",
   "metadata": {},
   "source": [
    "Boxplots were first used in 1969 by mathematician [John Tukey](https://en.wikipedia.org/wiki/John_Tukey). \n",
    "They are used to show the distribution of data and show the data minimum, first quartile, median, third quartile and maximum.\n",
    "They consist of a rectangular box with whiskers extending from each end to the mimimum and maximum data points. The rectangle itself goes from the first quartile to the third quartile (called the interquartile range) and a line within the box shows the median value of the data. It allows a simple but highly visually effective method of displaying and comparing data distributions. \n"
   ]
  },
  {
   "cell_type": "markdown",
   "metadata": {},
   "source": [
    "### Section Three - Demonstrate the use of the box plot using data of your choosing."
   ]
  },
  {
   "cell_type": "markdown",
   "metadata": {},
   "source": [
    "For this I decided to use a few simple examples based on CAO points. \n",
    "\n",
    "Each year Irish Students undergo a state examination called the Leaving Certificate, see a wikipedia page about the examimaion here, [Leaving Cert](https://en.wikipedia.org/wiki/Leaving_Certificate_(Ireland)). For these LC students entry to third level courses in Ireland is via a central application system [CAO](http://www.cao.ie/). \n",
    "\n",
    "Leaving cert results are converted to **applicant points** and Third Level institutions review applicant points & available courses places and determine the mimimum entry points for the course. Course are then allocated to eligible applicants based on their points, in descending order until the course places are all allocated. The **course points** will therefore be the total points obtained by the last applicant allocated a course place.\n",
    "\n",
    "This method means that course popularity and number of available places can result in points changing from year to year. \n",
    "\n",
    "In the first simulated example below a course had a points requirement in 2016 of 365 with a max points of 530, in 2017 a points requirement of 397 with max 495. Intake is unchanged with 39 places allocated in each year. When plotted as boxplots it is apparent that whilst the overall spread of points and max were greater in 2016 the 2017 median was higher.\n",
    "\n",
    "It is demonstrating in 2016 the two common scenarios in CAO points, at the higher end you have a student who has an excess of points but has stuck with the course they want; at the lower end the scenario where the demand was not as hgh as expected and to fill and make the course viable it is decided to drop points and pull in the last few students in a second round of offers. \n",
    "\n",
    "I have also generated some summary statistics and you see that the five 'points' of boxplots are effectively a visual representation of the final five summary statistics. \n",
    "\n"
   ]
  },
  {
   "cell_type": "code",
   "execution_count": null,
   "metadata": {},
   "outputs": [],
   "source": []
  },
  {
   "cell_type": "code",
   "execution_count": 21,
   "metadata": {},
   "outputs": [],
   "source": [
    "##below I am reading in a file of mocked up CAO points for a course \n",
    "df = pd.read_csv(\"https://raw.githubusercontent.com/Hudsonsue/BOXPLOTS/master/mock%20up%20points.csv\", header =0)\n",
    "#df"
   ]
  },
  {
   "cell_type": "code",
   "execution_count": 20,
   "metadata": {},
   "outputs": [
    {
     "data": {
      "text/html": [
       "<div>\n",
       "<style scoped>\n",
       "    .dataframe tbody tr th:only-of-type {\n",
       "        vertical-align: middle;\n",
       "    }\n",
       "\n",
       "    .dataframe tbody tr th {\n",
       "        vertical-align: top;\n",
       "    }\n",
       "\n",
       "    .dataframe thead th {\n",
       "        text-align: right;\n",
       "    }\n",
       "</style>\n",
       "<table border=\"1\" class=\"dataframe\">\n",
       "  <thead>\n",
       "    <tr style=\"text-align: right;\">\n",
       "      <th></th>\n",
       "      <th>201600</th>\n",
       "      <th>201700</th>\n",
       "    </tr>\n",
       "  </thead>\n",
       "  <tbody>\n",
       "    <tr>\n",
       "      <th>count</th>\n",
       "      <td>39.000000</td>\n",
       "      <td>39.000000</td>\n",
       "    </tr>\n",
       "    <tr>\n",
       "      <th>mean</th>\n",
       "      <td>427.076923</td>\n",
       "      <td>440.871795</td>\n",
       "    </tr>\n",
       "    <tr>\n",
       "      <th>std</th>\n",
       "      <td>41.050921</td>\n",
       "      <td>30.051867</td>\n",
       "    </tr>\n",
       "    <tr>\n",
       "      <th>min</th>\n",
       "      <td>365.000000</td>\n",
       "      <td>397.000000</td>\n",
       "    </tr>\n",
       "    <tr>\n",
       "      <th>25%</th>\n",
       "      <td>398.500000</td>\n",
       "      <td>416.500000</td>\n",
       "    </tr>\n",
       "    <tr>\n",
       "      <th>50%</th>\n",
       "      <td>419.000000</td>\n",
       "      <td>434.000000</td>\n",
       "    </tr>\n",
       "    <tr>\n",
       "      <th>75%</th>\n",
       "      <td>452.500000</td>\n",
       "      <td>465.000000</td>\n",
       "    </tr>\n",
       "    <tr>\n",
       "      <th>max</th>\n",
       "      <td>530.000000</td>\n",
       "      <td>497.000000</td>\n",
       "    </tr>\n",
       "  </tbody>\n",
       "</table>\n",
       "</div>"
      ],
      "text/plain": [
       "           201600      201700\n",
       "count   39.000000   39.000000\n",
       "mean   427.076923  440.871795\n",
       "std     41.050921   30.051867\n",
       "min    365.000000  397.000000\n",
       "25%    398.500000  416.500000\n",
       "50%    419.000000  434.000000\n",
       "75%    452.500000  465.000000\n",
       "max    530.000000  497.000000"
      ]
     },
     "execution_count": 20,
     "metadata": {},
     "output_type": "execute_result"
    }
   ],
   "source": [
    "# below are descriptive statistics for the data. The min, 25%, 50%, 75% and max are the fivepoints of the boxplots\n",
    "df.describe()"
   ]
  },
  {
   "cell_type": "code",
   "execution_count": 4,
   "metadata": {},
   "outputs": [
    {
     "name": "stdout",
     "output_type": "stream",
     "text": [
      "Median Values   [419. 434.]\n",
      "Max Pts\n",
      "201600    530\n",
      "201700    497\n",
      "dtype: int64\n",
      "Min pts\n",
      "201600    365\n",
      "201700    397\n",
      "dtype: int64\n",
      "\n",
      "Q1 201600 398.5 --- Q1 201700 416.5\n",
      "\n",
      "Q3 201600 452.5 --- Q3 201700 465.0\n",
      "\n",
      "Interquartile range 201600 54.0\n",
      "Interquartile range 201700 48.5\n"
     ]
    },
    {
     "data": {
      "image/png": "[encoded data removed]",
      "text/plain": [
       "<Figure size 432x288 with 1 Axes>"
      ]
     },
     "metadata": {
      "needs_background": "light"
     },
     "output_type": "display_data"
    }
   ],
   "source": [
    "boxplot = df.boxplot(column=['201600','201700'],  return_type='axes')\n",
    "plt.ylabel('points')\n",
    "plt.xlabel('term code')\n",
    "\n",
    "print(\"Median Values  \", np.median(df,axis =0))\n",
    "max_pts = np.amax(df, axis=0)\n",
    "min_pts = np.amin(df, axis=0)\n",
    "print(\"Max Pts\")\n",
    "print (max_pts)\n",
    "print(\"Min pts\")\n",
    "print( min_pts)\n",
    "print()\n",
    "Q1 =np.percentile(df, 25, axis =0)\n",
    "print (\"Q1 201600\", Q1[0], \"--- Q1 201700\", Q1[1])\n",
    "print()\n",
    "Q3 =np.percentile(df, 75, axis=0)\n",
    "print (\"Q3 201600\", Q3[0], \"--- Q3 201700\", Q3[1])\n",
    "IR = Q3-Q1\n",
    "print()\n",
    "print(\"Interquartile range 201600\", (IR[0]))\n",
    "print(\"Interquartile range 201700\", (IR[1]))\n"
   ]
  },
  {
   "cell_type": "code",
   "execution_count": null,
   "metadata": {},
   "outputs": [],
   "source": [
    " "
   ]
  },
  {
   "cell_type": "code",
   "execution_count": 26,
   "metadata": {},
   "outputs": [
    {
     "data": {
      "image/png": "[encoded data removed]",
      "text/plain": [
       "<Figure size 432x288 with 1 Axes>"
      ]
     },
     "metadata": {},
     "output_type": "display_data"
    }
   ],
   "source": [
    "\n",
    "df1 = pd.DataFrame(data = df, columns = ['201600','201700'])\n",
    "sns.set(style=\"darkgrid\")\n",
    "sns.boxplot(x=\"variable\",y = \"value\", hue = \"variable\",data=pd.melt(df), palette=\"Set3\").set_title(\"CAO Points Course A\")\n",
    "plt.legend()\n",
    "plt.ylabel('points')\n",
    "plt.xlabel('term code')\n",
    "plt.show()\n",
    "\n",
    "\n",
    "    #palette=\"Set3\" colour scheme"
   ]
  },
  {
   "cell_type": "code",
   "execution_count": 6,
   "metadata": {},
   "outputs": [
    {
     "data": {
      "text/html": [
       "<div>\n",
       "<style scoped>\n",
       "    .dataframe tbody tr th:only-of-type {\n",
       "        vertical-align: middle;\n",
       "    }\n",
       "\n",
       "    .dataframe tbody tr th {\n",
       "        vertical-align: top;\n",
       "    }\n",
       "\n",
       "    .dataframe thead th {\n",
       "        text-align: right;\n",
       "    }\n",
       "</style>\n",
       "<table border=\"1\" class=\"dataframe\">\n",
       "  <thead>\n",
       "    <tr style=\"text-align: right;\">\n",
       "      <th></th>\n",
       "      <th>2012</th>\n",
       "      <th>2013</th>\n",
       "      <th>2014</th>\n",
       "      <th>2015</th>\n",
       "      <th>2016</th>\n",
       "      <th>2017</th>\n",
       "    </tr>\n",
       "  </thead>\n",
       "  <tbody>\n",
       "    <tr>\n",
       "      <th>0</th>\n",
       "      <td>410</td>\n",
       "      <td>440</td>\n",
       "      <td>455</td>\n",
       "      <td>455</td>\n",
       "      <td>475</td>\n",
       "      <td>455</td>\n",
       "    </tr>\n",
       "    <tr>\n",
       "      <th>1</th>\n",
       "      <td>410</td>\n",
       "      <td>440</td>\n",
       "      <td>460</td>\n",
       "      <td>465</td>\n",
       "      <td>480</td>\n",
       "      <td>460</td>\n",
       "    </tr>\n",
       "    <tr>\n",
       "      <th>2</th>\n",
       "      <td>425</td>\n",
       "      <td>450</td>\n",
       "      <td>465</td>\n",
       "      <td>465</td>\n",
       "      <td>485</td>\n",
       "      <td>465</td>\n",
       "    </tr>\n",
       "  </tbody>\n",
       "</table>\n",
       "</div>"
      ],
      "text/plain": [
       "   2012  2013  2014  2015  2016  2017\n",
       "0   410   440   455   455   475   455\n",
       "1   410   440   460   465   480   460\n",
       "2   425   450   465   465   485   465"
      ]
     },
     "execution_count": 6,
     "metadata": {},
     "output_type": "execute_result"
    }
   ],
   "source": [
    "df3 = pd.read_csv(\"https://raw.githubusercontent.com/Hudsonsue/BOXPLOTS/master/boxplotdata.csv\",  header = 0) \n",
    "df3.head(3)"
   ]
  },
  {
   "cell_type": "code",
   "execution_count": 36,
   "metadata": {},
   "outputs": [
    {
     "data": {
      "image/png": "[encoded data removed]",
      "text/plain": [
       "<Figure size 432x288 with 1 Axes>"
      ]
     },
     "metadata": {},
     "output_type": "display_data"
    },
    {
     "data": {
      "text/html": [
       "<div>\n",
       "<style scoped>\n",
       "    .dataframe tbody tr th:only-of-type {\n",
       "        vertical-align: middle;\n",
       "    }\n",
       "\n",
       "    .dataframe tbody tr th {\n",
       "        vertical-align: top;\n",
       "    }\n",
       "\n",
       "    .dataframe thead th {\n",
       "        text-align: right;\n",
       "    }\n",
       "</style>\n",
       "<table border=\"1\" class=\"dataframe\">\n",
       "  <thead>\n",
       "    <tr style=\"text-align: right;\">\n",
       "      <th></th>\n",
       "      <th>2012</th>\n",
       "      <th>2013</th>\n",
       "      <th>2014</th>\n",
       "      <th>2015</th>\n",
       "      <th>2016</th>\n",
       "      <th>2017</th>\n",
       "    </tr>\n",
       "  </thead>\n",
       "  <tbody>\n",
       "    <tr>\n",
       "      <th>count</th>\n",
       "      <td>16.00000</td>\n",
       "      <td>16.000000</td>\n",
       "      <td>16.000000</td>\n",
       "      <td>16.000000</td>\n",
       "      <td>16.00000</td>\n",
       "      <td>16.000000</td>\n",
       "    </tr>\n",
       "    <tr>\n",
       "      <th>mean</th>\n",
       "      <td>468.43750</td>\n",
       "      <td>482.187500</td>\n",
       "      <td>503.437500</td>\n",
       "      <td>505.937500</td>\n",
       "      <td>523.43750</td>\n",
       "      <td>492.812500</td>\n",
       "    </tr>\n",
       "    <tr>\n",
       "      <th>std</th>\n",
       "      <td>44.11042</td>\n",
       "      <td>30.219682</td>\n",
       "      <td>37.180584</td>\n",
       "      <td>33.126965</td>\n",
       "      <td>32.79831</td>\n",
       "      <td>26.283629</td>\n",
       "    </tr>\n",
       "    <tr>\n",
       "      <th>min</th>\n",
       "      <td>410.00000</td>\n",
       "      <td>440.000000</td>\n",
       "      <td>455.000000</td>\n",
       "      <td>455.000000</td>\n",
       "      <td>475.00000</td>\n",
       "      <td>455.000000</td>\n",
       "    </tr>\n",
       "    <tr>\n",
       "      <th>25%</th>\n",
       "      <td>437.50000</td>\n",
       "      <td>458.750000</td>\n",
       "      <td>473.750000</td>\n",
       "      <td>477.500000</td>\n",
       "      <td>497.50000</td>\n",
       "      <td>469.750000</td>\n",
       "    </tr>\n",
       "    <tr>\n",
       "      <th>50%</th>\n",
       "      <td>462.50000</td>\n",
       "      <td>480.000000</td>\n",
       "      <td>500.000000</td>\n",
       "      <td>510.000000</td>\n",
       "      <td>522.50000</td>\n",
       "      <td>490.000000</td>\n",
       "    </tr>\n",
       "    <tr>\n",
       "      <th>75%</th>\n",
       "      <td>491.25000</td>\n",
       "      <td>506.250000</td>\n",
       "      <td>523.750000</td>\n",
       "      <td>536.250000</td>\n",
       "      <td>547.50000</td>\n",
       "      <td>515.750000</td>\n",
       "    </tr>\n",
       "    <tr>\n",
       "      <th>max</th>\n",
       "      <td>565.00000</td>\n",
       "      <td>540.000000</td>\n",
       "      <td>580.000000</td>\n",
       "      <td>550.000000</td>\n",
       "      <td>575.00000</td>\n",
       "      <td>537.000000</td>\n",
       "    </tr>\n",
       "  </tbody>\n",
       "</table>\n",
       "</div>"
      ],
      "text/plain": [
       "            2012        2013        2014        2015       2016        2017\n",
       "count   16.00000   16.000000   16.000000   16.000000   16.00000   16.000000\n",
       "mean   468.43750  482.187500  503.437500  505.937500  523.43750  492.812500\n",
       "std     44.11042   30.219682   37.180584   33.126965   32.79831   26.283629\n",
       "min    410.00000  440.000000  455.000000  455.000000  475.00000  455.000000\n",
       "25%    437.50000  458.750000  473.750000  477.500000  497.50000  469.750000\n",
       "50%    462.50000  480.000000  500.000000  510.000000  522.50000  490.000000\n",
       "75%    491.25000  506.250000  523.750000  536.250000  547.50000  515.750000\n",
       "max    565.00000  540.000000  580.000000  550.000000  575.00000  537.000000"
      ]
     },
     "execution_count": 36,
     "metadata": {},
     "output_type": "execute_result"
    }
   ],
   "source": [
    "##\n",
    "\n",
    "df4 = pd.DataFrame(data = df3, columns = [ '2012','2013', '2014', '2015','2016','2017'] )\n",
    "sns.boxplot(x=\"variable\", y=\"value\", data= pd.melt(df4)).set_title(\"CAO Points Course B 2012-2017\")\n",
    "plt.ylabel('points')\n",
    "plt.xlabel('term code')\n",
    "plt.show()\n",
    "\n",
    "df3.describe()\n"
   ]
  },
  {
   "cell_type": "code",
   "execution_count": null,
   "metadata": {},
   "outputs": [],
   "source": [
    "\n"
   ]
  },
  {
   "cell_type": "markdown",
   "metadata": {},
   "source": [
    "![Boxplot](http://www.physics.csbsju.edu/stats/simple.box.defs.gif)"
   ]
  },
  {
   "cell_type": "markdown",
   "metadata": {},
   "source": [
    "For a boxplot data is split into four equal sized groups. \n",
    "\n",
    "The lowest 25% goes from the minimum to the first quartile Q1 - the end of the whisker to the bottom of the box. \n",
    "\n",
    "The box itself shows the next 50% of data with the median (middle value) marked as a line within the box. \n",
    "\n",
    "The top of the box (third quartile Q3) to the end of the top whisker (maximum) represents the top 25% of data.  \n",
    "\n",
    "The range of data from the Third Quartile to First Quartile (Q3-Q1) is the interquartile range (IQR). \n",
    "\n",
    "Any datapoints that are more than 1.5 times the IQR above Q3 or below Q1 may be outliers, datapoints more than 3 times the IQR above Q3 or below Q1 are outliers.\n",
    "\n",
    "The shape of the boxplot (whisker length and median position) can be used to predict the likely data distribtion. \n",
    ". "
   ]
  },
  {
   "cell_type": "markdown",
   "metadata": {},
   "source": [
    "### Compare the box plot to alternatives."
   ]
  },
  {
   "cell_type": "markdown",
   "metadata": {},
   "source": [
    "\n",
    "As boxplots are distribution plots the first alternative to spring to mind is the histogram, below I have plotted the single programme across two years data as seaborn [distribution plots](https://seaborn.pydata.org/generated/seaborn.distplot.html), both superimposed and side by side.\n",
    "Whilst it is possible to interpret the plots it is not as visually easy as the box plots, this would be even more apparent where there are six years of data!\n",
    "\n",
    "I also investigated the use of a [strip plot](https://seaborn.pydata.org/generated/seaborn.stripplot.html), it shows the distribution of datapoints and it would be useful in conjunction with the box plots.\n",
    "\n",
    "Doing these comparisons higlighted one major advantage of the boxplot which is that whilst it is lovely in colour colour is not a necessity. "
   ]
  },
  {
   "cell_type": "code",
   "execution_count": null,
   "metadata": {},
   "outputs": [],
   "source": []
  },
  {
   "cell_type": "code",
   "execution_count": 33,
   "metadata": {},
   "outputs": [
    {
     "name": "stderr",
     "output_type": "stream",
     "text": [
      "C:\\Users\\User\\Anaconda3\\lib\\site-packages\\scipy\\stats\\stats.py:1713: FutureWarning: Using a non-tuple sequence for multidimensional indexing is deprecated; use `arr[tuple(seq)]` instead of `arr[seq]`. In the future this will be interpreted as an array index, `arr[np.array(seq)]`, which will result either in an error or a different result.\n",
      "  return np.add.reduce(sorted[indexer] * weights, axis=axis) / sumval\n"
     ]
    },
    {
     "data": {
      "image/png": "[encoded data removed]",
      "text/plain": [
       "<Figure size 432x288 with 1 Axes>"
      ]
     },
     "metadata": {},
     "output_type": "display_data"
    },
    {
     "data": {
      "image/png": "[encoded data removed]",
      "text/plain": [
       "<Figure size 576x288 with 2 Axes>"
      ]
     },
     "metadata": {},
     "output_type": "display_data"
    },
    {
     "data": {
      "image/png": "[encoded data removed]",
      "text/plain": [
       "<Figure size 432x288 with 1 Axes>"
      ]
     },
     "metadata": {},
     "output_type": "display_data"
    }
   ],
   "source": [
    "# plot \n",
    "\n",
    "sns.distplot(df[\"201600\"], label=\"201600\", color=\"red\")\n",
    "sns.distplot(df[\"201700\"], label=\"201700\",color=\"blue\")\n",
    "plt.legend()\n",
    "plt.show()\n",
    "\n",
    "f, axes = plt.subplots(1,2, figsize=(8, 4), sharex=True)\n",
    "sns.distplot( df[\"201600\"] , color=\"red\", ax=axes[0])\n",
    "sns.distplot( df[\"201700\"] , color=\"blue\", ax=axes[1])\n",
    "plt.show()\n",
    "\n",
    "df1 = pd.DataFrame(data = df, columns = ['201600','201700'])\n",
    "sns.set(style=\"whitegrid\")\n",
    "sns.stripplot(x=\"variable\",y = \"value\", hue = \"variable\",data=pd.melt(df), palette=\"Set1\").set_title(\"CAO Points Course A\")\n",
    "plt.legend()\n",
    "plt.ylabel('points')\n",
    "plt.xlabel('term code') # title of the x axis\n",
    "plt.show()\n",
    "\n"
   ]
  },
  {
   "cell_type": "code",
   "execution_count": null,
   "metadata": {},
   "outputs": [],
   "source": [
    "\n"
   ]
  },
  {
   "cell_type": "markdown",
   "metadata": {},
   "source": [
    "### Section Six - references and conclusion"
   ]
  },
  {
   "cell_type": "markdown",
   "metadata": {},
   "source": [
    "references specific\n",
    "https://en.wikipedia.org/wiki/Box_plot\n",
    "\n",
    "https://www.tutorialspoint.com/python/python_box_plots.htm\n",
    "\n",
    "https://www.mathsisfun.com/data/quartiles.html --reminder of how to work out quartiles!\n",
    "\n",
    "https://stackoverflow.com/questions/49554139/boxplot-of-multiple-columns-of-a-pandas-dataframe-on-the-same-figure-seaborn --assistance with SNS box plot"
   ]
  },
  {
   "cell_type": "markdown",
   "metadata": {},
   "source": [
    "### END"
   ]
  },
  {
   "cell_type": "code",
   "execution_count": null,
   "metadata": {},
   "outputs": [],
   "source": []
  }
 ],
 "metadata": {
  "kernelspec": {
   "display_name": "Python 3",
   "language": "python",
   "name": "python3"
  },
  "language_info": {
   "codemirror_mode": {
    "name": "ipython",
    "version": 3
   },
   "file_extension": ".py",
   "mimetype": "text/x-python",
   "name": "python",
   "nbconvert_exporter": "python",
   "pygments_lexer": "ipython3",
   "version": "3.7.0"
  }
 },
 "nbformat": 4,
 "nbformat_minor": 2
}
